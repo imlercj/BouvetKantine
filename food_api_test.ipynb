{
 "cells": [
  {
   "cell_type": "code",
   "execution_count": 7,
   "metadata": {},
   "outputs": [],
   "source": [
    "from foodApi import menu\n",
    "from postgres_func import Postgres\n",
    "from datetime import date\n"
   ]
  },
  {
   "cell_type": "code",
   "execution_count": 8,
   "metadata": {},
   "outputs": [
    {
     "data": {
      "text/plain": [
       "'2023-10-03'"
      ]
     },
     "execution_count": 8,
     "metadata": {},
     "output_type": "execute_result"
    }
   ],
   "source": [
    "date.today().strftime('%Y-%m-%d')"
   ]
  },
  {
   "cell_type": "code",
   "execution_count": 9,
   "metadata": {},
   "outputs": [],
   "source": [
    "menu_df = menu()\n",
    "postgres = Postgres()\n",
    "\n"
   ]
  },
  {
   "cell_type": "code",
   "execution_count": 10,
   "metadata": {},
   "outputs": [],
   "source": [
    "def pars_df(df):\n",
    "    \"\"\"\n",
    "    entries.append([row.date.strftime('%Y-%m-%d'), \n",
    "                row.MainCourse, \n",
    "                row.Soup, \n",
    "                str(row.WeekNumber), \n",
    "                row.DayOfWeek, \n",
    "                row.MainCourse, \n",
    "                row.Soup, \n",
    "                row.date.strftime('%Y-%m-%d'), \n",
    "                date.today().strftime('%Y-%m-%d')])\n",
    "    \"\"\"                                     \n",
    "    entries = []\n",
    "    for row in df.itertuples():\n",
    "        # [date, maincourse, soup, weeknumber, dayofweek, maincourse, soup, date, updatedat]\n",
    "\n",
    "        entries.append([str(row.WeekNumber), \n",
    "                        row.DayOfWeek, \n",
    "                        str(row.MainCourse).lstrip(), \n",
    "                        str(row.Soup).lstrip(),\n",
    "                        row.date.strftime('%Y-%m-%d'), \n",
    "                        date.today().strftime('%Y-%m-%d'), \n",
    "                        row.date.strftime('%Y-%m-%d'),\n",
    "                        str(row.MainCourse).lstrip(),\n",
    "                        str(row.Soup).lstrip()\n",
    "                        ])\n",
    "    return entries"
   ]
  },
  {
   "cell_type": "code",
   "execution_count": 11,
   "metadata": {},
   "outputs": [],
   "source": [
    "postgres_data = pars_df(menu_df)\n",
    "postgres.insert_data_menu(postgres_data)"
   ]
  },
  {
   "cell_type": "code",
   "execution_count": 12,
   "metadata": {},
   "outputs": [
    {
     "data": {
      "text/plain": [
       "[['40',\n",
       "  'Mandag',\n",
       "  'reinsdyr karbonade med karamellisert løk og potet - brunost saus',\n",
       "  'fiskesuppe',\n",
       "  '2023-10-02',\n",
       "  '2023-10-03',\n",
       "  '2023-10-02',\n",
       "  'reinsdyr karbonade med karamellisert løk og potet - brunost saus',\n",
       "  'fiskesuppe'],\n",
       " ['40',\n",
       "  'Tirsdag',\n",
       "  'fish and chips',\n",
       "  'fransk løksuppe',\n",
       "  '2023-10-03',\n",
       "  '2023-10-03',\n",
       "  '2023-10-03',\n",
       "  'fish and chips',\n",
       "  'fransk løksuppe'],\n",
       " ['40',\n",
       "  'Onsdag',\n",
       "  'bratwurst pølse med tilbehør',\n",
       "  'grønnsaksbuljong',\n",
       "  '2023-10-04',\n",
       "  '2023-10-03',\n",
       "  '2023-10-04',\n",
       "  'bratwurst pølse med tilbehør',\n",
       "  'grønnsaksbuljong'],\n",
       " ['40',\n",
       "  'Torsdag',\n",
       "  'biff bourguignon',\n",
       "  'grønn ertersuppe',\n",
       "  '2023-10-05',\n",
       "  '2023-10-03',\n",
       "  '2023-10-05',\n",
       "  'biff bourguignon',\n",
       "  'grønn ertersuppe'],\n",
       " ['40',\n",
       "  'Fredag',\n",
       "  'roasted svinenakke med kokos og peanøtt saus - ris',\n",
       "  'kylling ramen',\n",
       "  '2023-10-06',\n",
       "  '2023-10-03',\n",
       "  '2023-10-06',\n",
       "  'roasted svinenakke med kokos og peanøtt saus - ris',\n",
       "  'kylling ramen']]"
      ]
     },
     "execution_count": 12,
     "metadata": {},
     "output_type": "execute_result"
    }
   ],
   "source": [
    "postgres_data"
   ]
  },
  {
   "cell_type": "code",
   "execution_count": null,
   "metadata": {},
   "outputs": [],
   "source": []
  }
 ],
 "metadata": {
  "kernelspec": {
   "display_name": "pack",
   "language": "python",
   "name": "python3"
  },
  "language_info": {
   "codemirror_mode": {
    "name": "ipython",
    "version": 3
   },
   "file_extension": ".py",
   "mimetype": "text/x-python",
   "name": "python",
   "nbconvert_exporter": "python",
   "pygments_lexer": "ipython3",
   "version": "3.10.12"
  }
 },
 "nbformat": 4,
 "nbformat_minor": 2
}
